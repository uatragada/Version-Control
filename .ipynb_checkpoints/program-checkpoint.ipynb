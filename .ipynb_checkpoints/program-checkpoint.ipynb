{
 "cells": [
  {
   "cell_type": "code",
   "execution_count": null,
   "id": "14224bc1-3a5d-42a1-98aa-ddd247017bf9",
   "metadata": {},
   "outputs": [
    {
     "name": "stdout",
     "output_type": "stream",
     "text": [
      "yolk ate eaf for breakfast\n",
      "The data has been saved to breakfast.txt\n"
     ]
    }
   ],
   "source": [
    "name = input(\"Input any name. It doesn't have to be your name.\\n\")\n",
    "food = input(\"Input any breakfast item.\\n\")\n",
    "print(name, \"ate\", food, \"for breakfast\")\n",
    "with open(\"breakfast.txt\", \"a\") as file:\n",
    "    file.write(name + \", \" + food + \"\\n\")\n",
    "print(\"The data has been saved to breakfast.txt\")"
   ]
  },
  {
   "cell_type": "code",
   "execution_count": null,
   "id": "ec86cb06-3a72-48e4-bf00-bbe1ed1e2e0e",
   "metadata": {},
   "outputs": [],
   "source": []
  }
 ],
 "metadata": {
  "kernelspec": {
   "display_name": "Python 3",
   "language": "python",
   "name": "python3"
  },
  "language_info": {
   "codemirror_mode": {
    "name": "ipython",
    "version": 3
   },
   "file_extension": ".py",
   "mimetype": "text/x-python",
   "name": "python",
   "nbconvert_exporter": "python",
   "pygments_lexer": "ipython3",
   "version": "3.9.7"
  }
 },
 "nbformat": 4,
 "nbformat_minor": 5
}
